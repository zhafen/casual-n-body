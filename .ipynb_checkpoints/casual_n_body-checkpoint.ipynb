{
 "cells": [
  {
   "cell_type": "markdown",
   "metadata": {},
   "source": [
    "# Casual N-Body\n",
    "This notebook was put together during an interactive conversation from the class. It's a very crude N-Body solver, but it properly outlines what a simulation should do."
   ]
  },
  {
   "cell_type": "code",
   "execution_count": 1,
   "metadata": {},
   "outputs": [],
   "source": [
    "import numpy as np"
   ]
  },
  {
   "cell_type": "code",
   "execution_count": 2,
   "metadata": {},
   "outputs": [],
   "source": [
    "# Simulation parameters\n",
    "dt = 0.01\n",
    "G = 6.67e-11"
   ]
  },
  {
   "cell_type": "code",
   "execution_count": 3,
   "metadata": {},
   "outputs": [],
   "source": [
    "# Initial conditions\n",
    "\n",
    "# Masses\n",
    "ms = np.array( [ 1., 2., ] )\n",
    "\n",
    "ps = np.array( [ [ 0., 0., ], [1., 1., ] ])\n",
    "vs = np.array( [ [ 0., 0., ], [2., 0., ] ])"
   ]
  },
  {
   "cell_type": "code",
   "execution_count": 4,
   "metadata": {},
   "outputs": [],
   "source": [
    "def run_simulation(  masses, positions, velocities, n_time_steps=100 ):\n",
    "    \n",
    "    n_time_steps_done = 0\n",
    "    \n",
    "    all_positions = []\n",
    "    all_velocities = []\n",
    "    finished = False\n",
    "    while not finished:\n",
    "        \n",
    "        # update system\n",
    "        new_velocities = calc_new_velocities( masses, positions, velocities )\n",
    "        new_positions = calc_new_positions( positions, velocities )\n",
    "        \n",
    "        # save data\n",
    "        all_positions.append( new_positions )\n",
    "        all_velocities.append( new_velocities )\n",
    "        \n",
    "        # check if finished\n",
    "        n_time_steps_done += 1\n",
    "        if n_time_steps_done > n_time_steps:\n",
    "            finished = True\n",
    "        \n",
    "    return np.array( all_positions ), np.array( all_velocities )"
   ]
  },
  {
   "cell_type": "code",
   "execution_count": 5,
   "metadata": {},
   "outputs": [],
   "source": [
    "def calc_new_position( position, velocity,  ):\n",
    "    \n",
    "    delta_x = velocity * dt\n",
    "    \n",
    "    return position + delta_x"
   ]
  },
  {
   "cell_type": "code",
   "execution_count": 6,
   "metadata": {},
   "outputs": [],
   "source": [
    "def calc_new_positions( positions, velocities ):\n",
    "    \n",
    "    new_positions = []\n",
    "    for position, velocity in zip( positions, velocities ):\n",
    "        new_positions.append( position )\n",
    "        \n",
    "    return np.array( new_positions )\n",
    "        "
   ]
  },
  {
   "cell_type": "code",
   "execution_count": 7,
   "metadata": {},
   "outputs": [],
   "source": [
    "def calc_new_velocity( velocity, acceleration ):\n",
    "    \n",
    "    delta_v = acceleration * dt\n",
    "    \n",
    "    return velocity + delta_v"
   ]
  },
  {
   "cell_type": "code",
   "execution_count": 8,
   "metadata": {},
   "outputs": [],
   "source": [
    "def calc_f_grav_two_bodies( pos_1, pos_2, m_1, m_2 ):\n",
    "    \n",
    "    r = pos_2 - pos_1\n",
    "    \n",
    "    r_mag = np.linalg.norm( r )\n",
    "    \n",
    "    return -1. * G * m_1 * m_2 * r / r_mag**3."
   ]
  },
  {
   "cell_type": "code",
   "execution_count": 9,
   "metadata": {},
   "outputs": [],
   "source": [
    "def calc_f_grav_net( target_pos, target_mass, positions, masses ):\n",
    "    \n",
    "    f_gravs = []\n",
    "    for mass, pos in zip( masses, positions):\n",
    "        \n",
    "        f_gravs.append( calc_f_grav_two_bodies( target_pos, pos, target_mass, mass ) )\n",
    "        \n",
    "    f_grav_arr = np.array( f_gravs )\n",
    "    \n",
    "    f_grav_net = f_grav_arr.sum( axis=1 )\n",
    "    \n",
    "    return f_grav_net"
   ]
  },
  {
   "cell_type": "code",
   "execution_count": 10,
   "metadata": {},
   "outputs": [],
   "source": [
    "def calc_new_velocities( masses, positions, velocities ):\n",
    "    \n",
    "    new_velocities = []\n",
    "    for mass, position, velocity in zip( masses, positions, velocities ):\n",
    "        \n",
    "        f_grav_net = calc_f_grav_net( position, mass, positions, masses )\n",
    "        \n",
    "        acceleration = f_grav_net / mass\n",
    "        \n",
    "        new_velocity = calc_new_velocity( velocity, acceleration )\n",
    "        \n",
    "        new_velocities.append( new_velocity )\n",
    "        \n",
    "    return np.array( new_velocities )"
   ]
  },
  {
   "cell_type": "code",
   "execution_count": 11,
   "metadata": {},
   "outputs": [
    {
     "name": "stderr",
     "output_type": "stream",
     "text": [
      "/Applications/anaconda/lib/python2.7/site-packages/ipykernel/__main__.py:7: RuntimeWarning: invalid value encountered in divide\n"
     ]
    }
   ],
   "source": [
    "all_ps, all_vs = run_simulation(  ms, ps, vs, 5 )"
   ]
  },
  {
   "cell_type": "markdown",
   "metadata": {},
   "source": [
    "# Known Issues\n",
    "\n",
    "It's up to you how to fix them...\n",
    "* When we sum up the gravitational force, we include the gravitational force on a particle by that particle. That's obviously not right. Can you fix it?\n",
    "* We set G=6.67e-11. However, as a result, the change in velocity is probably really small... How small is it? Can you change the masses or positions to make gravity no longer negligble?\n",
    "* How do we know our results are right? Can you make a plot of them?"
   ]
  },
  {
   "cell_type": "code",
   "execution_count": null,
   "metadata": {},
   "outputs": [],
   "source": []
  },
  {
   "cell_type": "code",
   "execution_count": null,
   "metadata": {},
   "outputs": [],
   "source": [
    "\n"
   ]
  }
 ],
 "metadata": {
  "kernelspec": {
   "display_name": "Python [conda root]",
   "language": "python",
   "name": "conda-root-py"
  },
  "language_info": {
   "codemirror_mode": {
    "name": "ipython",
    "version": 2
   },
   "file_extension": ".py",
   "mimetype": "text/x-python",
   "name": "python",
   "nbconvert_exporter": "python",
   "pygments_lexer": "ipython2",
   "version": "2.7.12"
  }
 },
 "nbformat": 4,
 "nbformat_minor": 2
}
